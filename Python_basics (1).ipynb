{
  "nbformat": 4,
  "nbformat_minor": 0,
  "metadata": {
    "colab": {
      "provenance": []
    },
    "kernelspec": {
      "name": "python3",
      "display_name": "Python 3"
    },
    "language_info": {
      "name": "python"
    }
  },
  "cells": [
    {
      "cell_type": "code",
      "execution_count": 1,
      "metadata": {
        "id": "BRlKov7BCYd8"
      },
      "outputs": [],
      "source": [
        "# PYTHON BASICS -"
      ]
    },
    {
      "cell_type": "code",
      "source": [
        "# Q 1. What is Python, and why is it popular?\n",
        " #  - Pyhton is high level, interactive, interpreted programing language.It is known for its simplicity readability an versatility.\n",
        " #  It's popular because of its simplicity, easy to learn, lot of libraries and widely use in data industry  frontend, backend development, data analysis etc.\n"
      ],
      "metadata": {
        "id": "FuHG28VQLNFy"
      },
      "execution_count": 1,
      "outputs": []
    },
    {
      "cell_type": "code",
      "source": [
        "# Q 2. What is an interpreter in Python?\n",
        "#   -  An interpreter in python is a program that excutes python code line by line rather then compiling the entire code at once like a compiler.\n",
        "#       it reads the code, translate it into machine readable instructions andd runs it dynamically."
      ],
      "metadata": {
        "id": "DGkXzocpLSxg"
      },
      "execution_count": 2,
      "outputs": []
    },
    {
      "cell_type": "code",
      "source": [
        "# Q 3. What are pre-defined keywords in Python?\n",
        "#   -  Predefine keywords are special words that have specific meanings and can not be used a variable name, function name or identifiers. keywords define\n",
        "#      the stucture and syntax of python code."
      ],
      "metadata": {
        "id": "lMNxCAwLM7Gm"
      },
      "execution_count": 3,
      "outputs": []
    },
    {
      "cell_type": "code",
      "source": [
        "# Q 4. Can keywords be used as variable names?\n",
        "#   -  No, keywords can not be used as variable names because they are reserved for specific functionalities."
      ],
      "metadata": {
        "id": "CxMkzxMdNx2y"
      },
      "execution_count": 4,
      "outputs": []
    },
    {
      "cell_type": "code",
      "source": [
        "# Q 5. What is mutability in Python?\n",
        "#   -  Mutability refers to the capability of an object to be changed or moddified after its creation."
      ],
      "metadata": {
        "id": "0W3uRHHFMxIu"
      },
      "execution_count": 5,
      "outputs": []
    },
    {
      "cell_type": "code",
      "source": [
        "# Q 6. Why are lists mutable, but tuples are immutable?\n",
        "#   -  Lists are mutable because it's implimented as a dynamic array in memory. There content can be change after creation. Tuples are immutable because it's stored as a\n",
        "#      contigouos block of memory. Their content can not be change after creation."
      ],
      "metadata": {
        "id": "5v2LGl56POKZ"
      },
      "execution_count": 6,
      "outputs": []
    },
    {
      "cell_type": "code",
      "source": [
        "# Q 7. What is the difference between “==” and “is” operators in Python?\n",
        "#   -  \"==\" is a equality operator. It checksif the two variables have the same value.\n",
        "#      \"is\" is the identity operators. It checks if two variable point to the same memory location or are the same object."
      ],
      "metadata": {
        "id": "AT64Bz-gSulc"
      },
      "execution_count": 7,
      "outputs": []
    },
    {
      "cell_type": "code",
      "source": [
        "# Q 8. What are logical operators in Python?\n",
        "#   -  Logical operators are used to combine multiple conditions and return a boolean value (T or f)."
      ],
      "metadata": {
        "id": "wDEE2RLCXnZc"
      },
      "execution_count": 8,
      "outputs": []
    },
    {
      "cell_type": "code",
      "source": [
        "# Q 9. What is type casting in Python?\n",
        "#   -  Type casting or conversion is the process of converting a variable from one data type to another."
      ],
      "metadata": {
        "id": "aqH3a9c5YVYe"
      },
      "execution_count": 10,
      "outputs": []
    },
    {
      "cell_type": "code",
      "source": [
        "# Q 10. What is the difference between implicit and explicit type casting?\n",
        "#    -  Implicit type casting is automatic done by python and no functions require, while Explicit type casting performs manually uses, requires functions\n",
        "#       like int(), float(), str()."
      ],
      "metadata": {
        "id": "LltN0tkRY5bI"
      },
      "execution_count": 11,
      "outputs": []
    },
    {
      "cell_type": "code",
      "source": [
        "# Q 11.What is the purpose of conditional statements in Python?\n",
        "#    - The purpose of condtion statement in python is control the flow of a program by making decisions based on conddition. They allow the program to execute\n",
        "#      diferent blocks of code depending on whether a condition true or false."
      ],
      "metadata": {
        "id": "MUE7mXVsad3t"
      },
      "execution_count": 12,
      "outputs": []
    },
    {
      "cell_type": "code",
      "source": [
        "# 12. How does the elif statement work?\n",
        "#  -  The elif statement in pyhton is used to check multiple conditions.it is executed if the previous if or elif condition was false and skip the rest.\n"
      ],
      "metadata": {
        "id": "TC6JpprUbiqA"
      },
      "execution_count": 13,
      "outputs": []
    },
    {
      "cell_type": "code",
      "source": [
        "# 13. What is the difference between for and while loops?\n",
        "#  -  For loop used when the number of iteration is known and it is iterate over a sequence of a element/ works with sequence.\n",
        "#     while loop used when iteration depend on a condditon it repeatadly execute a block of code until a condition is met."
      ],
      "metadata": {
        "id": "h7OpMlX_c4ND"
      },
      "execution_count": 14,
      "outputs": []
    },
    {
      "cell_type": "code",
      "source": [
        "# 14. Describe a scenario where a while loop is more suitable than a for loop.\n",
        "#  -  While loop is more suitable than a for loop when you don't know how many times the loop will run and want to contineu looping until a specific condition is met."
      ],
      "metadata": {
        "id": "AzzgCS_xeUlb"
      },
      "execution_count": 15,
      "outputs": []
    },
    {
      "cell_type": "code",
      "source": [
        "# Practical Questions-"
      ],
      "metadata": {
        "id": "Zi71w5pGbigj"
      },
      "execution_count": 16,
      "outputs": []
    },
    {
      "cell_type": "code",
      "source": [
        "# 1. Write a Python program to print \"Hello, World!\".\n",
        "print(\"Hello, World!\")"
      ],
      "metadata": {
        "colab": {
          "base_uri": "https://localhost:8080/"
        },
        "id": "EasU1QSviezh",
        "outputId": "c0014d36-2940-46bd-f873-1c3dbb5a7804"
      },
      "execution_count": 17,
      "outputs": [
        {
          "output_type": "stream",
          "name": "stdout",
          "text": [
            "Hello, World!\n"
          ]
        }
      ]
    },
    {
      "cell_type": "code",
      "source": [
        "# 2. Write a Python program that displays your name and age.\n",
        "name = input (\"Enter your name: \")\n",
        "age = input (\"Enter your age: \")\n",
        "\n",
        "print (\"Your name is: \",name)\n",
        "print (\"Your age is: \",age)"
      ],
      "metadata": {
        "id": "gX_b6WTHjS8n"
      },
      "execution_count": null,
      "outputs": []
    },
    {
      "cell_type": "code",
      "source": [
        "# 3. Write code to print all the pre-defined keywords in Python using the keyword library?\n",
        "import keyword\n",
        "print (keyword.kwlist)"
      ],
      "metadata": {
        "id": "HzpN46QRtHks"
      },
      "execution_count": null,
      "outputs": []
    },
    {
      "cell_type": "code",
      "source": [
        "# 4. Write a program that checks if a given word is a Python keyword.\n",
        "import keyword\n",
        "word = input(\"Enter a word: \")\n",
        "if keyword.iskeyword(word):\n",
        "    print(f\"{word} is a Python keyword.\")\n",
        "else:\n",
        "    print(f\"{word} is not a Python keyword.\")"
      ],
      "metadata": {
        "colab": {
          "base_uri": "https://localhost:8080/"
        },
        "id": "zFWIr3HLvZ3R",
        "outputId": "b01a9f58-c243-446b-86ce-c6d8e30ffd91"
      },
      "execution_count": 12,
      "outputs": [
        {
          "output_type": "stream",
          "name": "stdout",
          "text": [
            "Enter a word: break\n",
            "break is a Python keyword.\n"
          ]
        }
      ]
    },
    {
      "cell_type": "code",
      "source": [
        "# 5. Create a list and tuple in Python, and demonstrate how attempting to change an element works differently for each.\n",
        "list_cont = [4, 8, 12]\n",
        "tuple_cont= (2, 4, 8)\n",
        "\n",
        "list_cont[0]= 6\n",
        "list_cont"
      ],
      "metadata": {
        "colab": {
          "base_uri": "https://localhost:8080/"
        },
        "id": "F-6x8WBOxJ4K",
        "outputId": "9d5cd5df-ca19-4fac-9bd6-0d110b37e9da"
      },
      "execution_count": 15,
      "outputs": [
        {
          "output_type": "execute_result",
          "data": {
            "text/plain": [
              "[6, 8, 12]"
            ]
          },
          "metadata": {},
          "execution_count": 15
        }
      ]
    },
    {
      "cell_type": "code",
      "source": [
        "tuple_cont[0]= 6\n",
        "tuple_cont"
      ],
      "metadata": {
        "colab": {
          "base_uri": "https://localhost:8080/",
          "height": 158
        },
        "id": "5bccD2X4zeoD",
        "outputId": "2352bd27-9001-4cdb-83dc-9891f9966fd8"
      },
      "execution_count": 16,
      "outputs": [
        {
          "output_type": "error",
          "ename": "TypeError",
          "evalue": "'tuple' object does not support item assignment",
          "traceback": [
            "\u001b[0;31m---------------------------------------------------------------------------\u001b[0m",
            "\u001b[0;31mTypeError\u001b[0m                                 Traceback (most recent call last)",
            "\u001b[0;32m<ipython-input-16-728290eeb921>\u001b[0m in \u001b[0;36m<cell line: 0>\u001b[0;34m()\u001b[0m\n\u001b[0;32m----> 1\u001b[0;31m \u001b[0mtuple_cont\u001b[0m\u001b[0;34m[\u001b[0m\u001b[0;36m0\u001b[0m\u001b[0;34m]\u001b[0m\u001b[0;34m=\u001b[0m \u001b[0;36m6\u001b[0m\u001b[0;34m\u001b[0m\u001b[0;34m\u001b[0m\u001b[0m\n\u001b[0m\u001b[1;32m      2\u001b[0m \u001b[0mtuple_cont\u001b[0m\u001b[0;34m\u001b[0m\u001b[0;34m\u001b[0m\u001b[0m\n",
            "\u001b[0;31mTypeError\u001b[0m: 'tuple' object does not support item assignment"
          ]
        }
      ]
    },
    {
      "cell_type": "code",
      "source": [
        "# 6. Write a function to demonstrate the behavior of mutable and immutable arguments?\n",
        "def demonstrate_mutable_immutable(immutable_arg, mutable_arg):\n",
        "    print (\"Before modification:\")\n",
        "    print (f\"Immutable argument (int): {immutable_arg}\")\n",
        "    prin t(f\"Mutable argument (list): {mutable_arg}\\n\")\n",
        "\n",
        "    # Modifying immutable argument (int)\n",
        "    immutable_arg += 10\n",
        "\n",
        "    # Modifying mutable argument (list)\n",
        "    mutable_arg.append(100)\n",
        "\n",
        "    print (\"After modification:\")\n",
        "    print (f\"Immutable argument (int): {immutable_arg}\")  # not changed\n",
        "    print (f\"Mutable argument (list): {mutable_arg}\")  # change\n",
        "\n",
        "\n",
        "    # Testing the function\n",
        "    num = 5  # Immutabl\n",
        "    lst = [1, 2, 3]  # Mutable\n",
        "\n",
        "    demonstrate_mutable_immutable(num, lst)\n",
        "\n",
        "    print(\"\\nOutside the function:\")\n",
        "    print(f\"Immutable argument after function call: {num}\")  # Unchanged\n",
        "    print(f\"Mutable argument after function call: {lst}\")  # Changed!\n"
      ],
      "metadata": {
        "id": "E_4PaeP8tDrq"
      },
      "execution_count": null,
      "outputs": []
    },
    {
      "cell_type": "code",
      "source": [
        "# 7. duplicate question from no. 6\n"
      ],
      "metadata": {
        "id": "yNTmutkMttap"
      },
      "execution_count": null,
      "outputs": []
    },
    {
      "cell_type": "code",
      "source": [
        "# Logical Operators Demonstration\n",
        "a = True\n",
        "b = False\n",
        "\n",
        "print(\"Logical Operators Demonstration\\n\")\n",
        "\n",
        "# AND Operator:\n",
        "print(f\"True and False: {a and b}\")  # False\n",
        "print(f\"True and True: {a and a}\")   # True\n",
        "\n",
        "# OR Operator:\n",
        "print(f\"True or False: {a or b}\")    # True\n",
        "print(f\"False or False: {b or b}\")   # False\n",
        "\n",
        "# NOT Operator:\n",
        "print(f\"Not True: {not a}\")  # False\n",
        "print(f\"Not False: {not b}\") # True\n"
      ],
      "metadata": {
        "id": "nYXoiZW6t_EO"
      },
      "execution_count": null,
      "outputs": []
    },
    {
      "cell_type": "code",
      "source": [
        "# 9. Write a Python program to convert user input from string to integer, float, and boolean types?\n",
        "a = input(\"Enter a value: \")\n",
        "\n",
        "int_val = int(a)\n",
        "float_val = float(a)\n",
        "bool_val = bool(a)\n",
        "\n",
        "print(\"Integer:\", int_val)\n",
        "print(\"Float:\", float_val)\n",
        "print(\"Boolean:\", bool_val)"
      ],
      "metadata": {
        "id": "JEy3kcDSv-EU"
      },
      "execution_count": null,
      "outputs": []
    },
    {
      "cell_type": "code",
      "source": [
        "# 10. Write code to demonstrate type casting with list elements?\n",
        "# List containing numbers as strings\n",
        "string_list = [\"10\", \"20\", \"30\", \"40.5\", \"50.7\"]\n",
        "\n",
        "int_list = []\n",
        "for item in string_list:\n",
        "    try:\n",
        "        int_list.append(int(float(item)))  # Convert to float first to handle decimal values\n",
        "    except ValueError:\n",
        "        print(f\"Cannot convert '{item}' to integer\")\n",
        "\n",
        "print(f\"Original list: {string_list}\")\n",
        "print(f\"List after converting to integers: {int_list}\")\n",
        "\n",
        "# Convert string elements to floats\n",
        "float_list = [float(item) for item in string_list]\n",
        "print(f\"List after converting to floats: {float_list}\")\n",
        "\n",
        "# Convert list of numbers to strings\n",
        "string_converted_list = [str(num) for num in float_list]\n",
        "print(f\"List after converting back to strings: {string_converted_list}\")\n"
      ],
      "metadata": {
        "id": "HeVJnTswxoC2"
      },
      "execution_count": null,
      "outputs": []
    },
    {
      "cell_type": "code",
      "source": [
        "# 11. Write a program that checks if a number is positive, negative, or zero.\n",
        "num = float(input(\"Enter a number: \"))\n",
        "\n",
        "# Checking conditions\n",
        "if num > 0:\n",
        "    print(\"The number is Positive.\")\n",
        "elif num < 0:\n",
        "    print(\"The number is Negative.\")\n",
        "else:\n",
        "    print(\"The number is Zero.\")\n"
      ],
      "metadata": {
        "id": "W-XS2wS22z2K"
      },
      "execution_count": null,
      "outputs": []
    },
    {
      "cell_type": "code",
      "source": [
        "# 12. Write a for loop to print numbers from 1 to 10.\n",
        "for i in range(1, 11):\n",
        "    print(i)\n"
      ],
      "metadata": {
        "id": "au0wdCh225sv"
      },
      "execution_count": null,
      "outputs": []
    },
    {
      "cell_type": "code",
      "source": [
        "# 13. Write a Python program to find the sum of all even numbers between 1 and 50\n",
        "num = 0\n",
        "for i in range(1, 51):\n",
        "    if i % 2 == 0:\n",
        "        num += i\n",
        "print(\"Sum of even numbers from 1 to 50:\", num)"
      ],
      "metadata": {
        "id": "QXl_mfL53DCK"
      },
      "execution_count": null,
      "outputs": []
    },
    {
      "cell_type": "code",
      "source": [
        "# 14. Write a program to reverse a string using a while loop0\n",
        "text = input(\"Enter a string: \")\n",
        "reversed_text = \"\"\n",
        "i = len(text) - 1\n",
        "\n",
        "while i >= 0:\n",
        "    reversed_text += text[i]\n",
        "    i -= 1\n",
        "\n",
        "print(\"Reversed string:\", reversed_text)"
      ],
      "metadata": {
        "id": "o0aSYDkY3JbM"
      },
      "execution_count": null,
      "outputs": []
    },
    {
      "cell_type": "code",
      "source": [
        "# 15. Write a Python program to calculate the factorial of a number provided by the user using a while loop.\n",
        "num = int(input(\"Enter a number: \"))\n",
        "\n",
        "# Initialize variables\n",
        "factorial = 1\n",
        "i = 1\n",
        "\n",
        "while i <= num:\n",
        "    factorial *= i\n",
        "    i += 1\n",
        "\n",
        "print(f\"The factorial of {num} is: {factorial}\")\n"
      ],
      "metadata": {
        "colab": {
          "base_uri": "https://localhost:8080/"
        },
        "id": "9V9ApdlT3Oak",
        "outputId": "f4f2de51-b0db-4b36-c83c-f6407b7bf1f5"
      },
      "execution_count": 1,
      "outputs": [
        {
          "output_type": "stream",
          "name": "stdout",
          "text": [
            "Enter a number: 5\n",
            "The factorial of 5 is: 120\n"
          ]
        }
      ]
    }
  ]
}